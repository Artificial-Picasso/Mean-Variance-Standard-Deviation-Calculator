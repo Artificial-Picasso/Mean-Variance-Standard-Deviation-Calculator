{
 "cells": [
  {
   "cell_type": "markdown",
   "id": "51cd6683-c135-418b-b24d-23a4608ca838",
   "metadata": {},
   "source": [
    "## Mean-Variance-Standard Deviation Calculator"
   ]
  },
  {
   "cell_type": "code",
   "execution_count": null,
   "id": "89c9a084-a636-495a-8210-84dac2a412e0",
   "metadata": {},
   "outputs": [],
   "source": [
    "# Author: Motlalepula Lawrence Tshabalala\n",
    "# Date: 2025/05/11\n",
    "# Description: Mean-Variance-Standard Deviation Calculator\n",
    "  #This project is a Python function that takes a list of 9 numbers, \n",
    "  #turns it into a 3×3 matrix, then calculates the mean, variance, standard deviation, max, min, and sum statistics. \n",
    "  #It gives the results for each row, each column, and the whole matrix."
   ]
  },
  {
   "cell_type": "code",
   "execution_count": 1,
   "id": "6b47da4e-3a6c-4991-a8da-025f7ecba3ed",
   "metadata": {},
   "outputs": [],
   "source": [
    "import numpy as np  # Import NumPy to use its powerful math functions and array handling\n",
    "\n",
    "def calculate(input_list):\n",
    "    # Step 1: Validate the input\n",
    "    if len(input_list) != 9:\n",
    "        raise ValueError(\"List must contain nine numbers.\")  # Raise error if input is not 9 numbers\n",
    "\n",
    "    # Step 2: Convert the list to a 3x3 NumPy array (matrix)\n",
    "    matrix = np.array(input_list).reshape(3, 3)\n",
    "\n",
    "    # Step 3: Calculate required statistics along axis 0 (columns), axis 1 (rows), and the flattened matrix\n",
    "\n",
    "    # Mean\n",
    "    mean_axis0 = np.mean(matrix, axis=0).tolist()     # Mean of each column\n",
    "    mean_axis1 = np.mean(matrix, axis=1).tolist()     # Mean of each row\n",
    "    mean_flat = np.mean(matrix).item()                # Mean of all elements\n",
    "\n",
    "    # Variance\n",
    "    var_axis0 = np.var(matrix, axis=0).tolist()\n",
    "    var_axis1 = np.var(matrix, axis=1).tolist()\n",
    "    var_flat = np.var(matrix).item()\n",
    "\n",
    "    # Standard Deviation\n",
    "    std_axis0 = np.std(matrix, axis=0).tolist()\n",
    "    std_axis1 = np.std(matrix, axis=1).tolist()\n",
    "    std_flat = np.std(matrix).item()\n",
    "\n",
    "    # Max\n",
    "    max_axis0 = np.max(matrix, axis=0).tolist()\n",
    "    max_axis1 = np.max(matrix, axis=1).tolist()\n",
    "    max_flat = np.max(matrix).item()\n",
    "\n",
    "    # Min\n",
    "    min_axis0 = np.min(matrix, axis=0).tolist()\n",
    "    min_axis1 = np.min(matrix, axis=1).tolist()\n",
    "    min_flat = np.min(matrix).item()\n",
    "\n",
    "    # Sum\n",
    "    sum_axis0 = np.sum(matrix, axis=0).tolist()\n",
    "    sum_axis1 = np.sum(matrix, axis=1).tolist()\n",
    "    sum_flat = np.sum(matrix).item()\n",
    "\n",
    "    # Step 4: Organize all results into a dictionary\n",
    "    calculations = {\n",
    "        'mean': [mean_axis0, mean_axis1, mean_flat],\n",
    "        'variance': [var_axis0, var_axis1, var_flat],\n",
    "        'standard deviation': [std_axis0, std_axis1, std_flat],\n",
    "        'max': [max_axis0, max_axis1, max_flat],\n",
    "        'min': [min_axis0, min_axis1, min_flat],\n",
    "        'sum': [sum_axis0, sum_axis1, sum_flat]\n",
    "    }\n",
    "\n",
    "    return calculations  # Step 5: Return the dictionary with all the results\n"
   ]
  },
  {
   "cell_type": "code",
   "execution_count": 2,
   "id": "d2c8fbcf-6617-4e69-b0ac-ac292ba1ea38",
   "metadata": {},
   "outputs": [
    {
     "name": "stdout",
     "output_type": "stream",
     "text": [
      "{'mean': [[3.0, 4.0, 5.0], [1.0, 4.0, 7.0], 4.0], 'variance': [[6.0, 6.0, 6.0], [0.6666666666666666, 0.6666666666666666, 0.6666666666666666], 6.666666666666667], 'standard deviation': [[2.449489742783178, 2.449489742783178, 2.449489742783178], [0.816496580927726, 0.816496580927726, 0.816496580927726], 2.581988897471611], 'max': [[6, 7, 8], [2, 5, 8], 8], 'min': [[0, 1, 2], [0, 3, 6], 0], 'sum': [[9, 12, 15], [3, 12, 21], 36]}\n"
     ]
    }
   ],
   "source": [
    "print(calculate([0, 1, 2, 3, 4, 5, 6, 7, 8]))"
   ]
  },
  {
   "cell_type": "code",
   "execution_count": null,
   "id": "ae2efddd-a77b-47d9-91e5-4d8617285321",
   "metadata": {},
   "outputs": [],
   "source": []
  }
 ],
 "metadata": {
  "kernelspec": {
   "display_name": "Python [conda env:base] *",
   "language": "python",
   "name": "conda-base-py"
  },
  "language_info": {
   "codemirror_mode": {
    "name": "ipython",
    "version": 3
   },
   "file_extension": ".py",
   "mimetype": "text/x-python",
   "name": "python",
   "nbconvert_exporter": "python",
   "pygments_lexer": "ipython3",
   "version": "3.12.7"
  }
 },
 "nbformat": 4,
 "nbformat_minor": 5
}
